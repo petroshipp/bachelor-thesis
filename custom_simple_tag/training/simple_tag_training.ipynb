{
 "cells": [
  {
   "cell_type": "code",
   "execution_count": 1,
   "id": "a174d996",
   "metadata": {},
   "outputs": [],
   "source": [
    "import argparse\n",
    "import os\n",
    "from copy import deepcopy\n",
    "from typing import Optional, Tuple\n",
    "\n",
    "import gym\n",
    "import numpy as np\n",
    "import torch\n",
    "import simple_tag\n",
    "from torch.utils.tensorboard import SummaryWriter\n",
    "\n",
    "from tianshou.data import Collector, VectorReplayBuffer\n",
    "from tianshou.env import DummyVectorEnv\n",
    "from tianshou.env.pettingzoo_env import PettingZooEnv\n",
    "from tianshou.policy import (\n",
    "    BasePolicy,\n",
    "    DQNPolicy,\n",
    "    MultiAgentPolicyManager,\n",
    "    RandomPolicy,\n",
    ")\n",
    "from tianshou.trainer import offpolicy_trainer\n",
    "from tianshou.utils import TensorboardLogger\n",
    "from tianshou.utils.net.common import Net\n",
    "import supersuit as ss"
   ]
  },
  {
   "cell_type": "code",
   "execution_count": 2,
   "id": "5f37d743",
   "metadata": {
    "scrolled": true
   },
   "outputs": [
    {
     "name": "stderr",
     "output_type": "stream",
     "text": [
      "Epoch #1: 5001it [00:10, 497.02it/s, agent_0/loss=46.156, env_step=5000, len=50, n/ep=0, n/st=10, rew=-164.95]         \n"
     ]
    },
    {
     "name": "stdout",
     "output_type": "stream",
     "text": [
      "Epoch #1: test_reward: -112.978575 ± 90.350004, best_reward: -112.978575 ± 90.350004 in #1\n"
     ]
    },
    {
     "name": "stderr",
     "output_type": "stream",
     "text": [
      "Epoch #2: 5001it [00:10, 471.60it/s, agent_0/loss=52.699, env_step=10000, len=50, n/ep=0, n/st=10, rew=-29.49]         \n"
     ]
    },
    {
     "name": "stdout",
     "output_type": "stream",
     "text": [
      "Epoch #2: test_reward: -13.125912 ± 42.000086, best_reward: -13.125912 ± 42.000086 in #2\n"
     ]
    },
    {
     "name": "stderr",
     "output_type": "stream",
     "text": [
      "Epoch #3: 5001it [00:07, 639.74it/s, agent_0/loss=42.597, env_step=15000, len=50, n/ep=0, n/st=10, rew=-10.45]         \n"
     ]
    },
    {
     "name": "stdout",
     "output_type": "stream",
     "text": [
      "Epoch #3: test_reward: -13.857247 ± 46.557067, best_reward: -13.125912 ± 42.000086 in #2\n"
     ]
    },
    {
     "name": "stderr",
     "output_type": "stream",
     "text": [
      "Epoch #4: 5001it [00:08, 619.90it/s, agent_0/loss=42.423, env_step=20000, len=50, n/ep=0, n/st=10, rew=-27.98]         \n"
     ]
    },
    {
     "name": "stdout",
     "output_type": "stream",
     "text": [
      "Epoch #4: test_reward: -13.767993 ± 43.610867, best_reward: -13.125912 ± 42.000086 in #2\n"
     ]
    },
    {
     "name": "stderr",
     "output_type": "stream",
     "text": [
      "Epoch #5: 5001it [00:10, 481.76it/s, agent_0/loss=32.988, env_step=25000, len=50, n/ep=0, n/st=10, rew=-40.92]         \n"
     ]
    },
    {
     "name": "stdout",
     "output_type": "stream",
     "text": [
      "Epoch #5: test_reward: -15.102372 ± 48.032716, best_reward: -13.125912 ± 42.000086 in #2\n"
     ]
    },
    {
     "name": "stderr",
     "output_type": "stream",
     "text": [
      "Epoch #6: 5001it [00:06, 763.99it/s, agent_0/loss=40.271, env_step=30000, len=50, n/ep=0, n/st=10, rew=-135.51]        \n"
     ]
    },
    {
     "name": "stdout",
     "output_type": "stream",
     "text": [
      "Epoch #6: test_reward: -15.280688 ± 46.300815, best_reward: -13.125912 ± 42.000086 in #2\n"
     ]
    },
    {
     "name": "stderr",
     "output_type": "stream",
     "text": [
      "Epoch #7: 5001it [00:06, 763.08it/s, agent_0/loss=40.431, env_step=35000, len=50, n/ep=0, n/st=10, rew=-5.20]          \n"
     ]
    },
    {
     "name": "stdout",
     "output_type": "stream",
     "text": [
      "Epoch #7: test_reward: -13.654239 ± 43.331998, best_reward: -13.125912 ± 42.000086 in #2\n"
     ]
    },
    {
     "name": "stderr",
     "output_type": "stream",
     "text": [
      "Epoch #8: 5001it [00:07, 640.78it/s, agent_0/loss=47.661, env_step=40000, len=50, n/ep=0, n/st=10, rew=-131.99]        \n"
     ]
    },
    {
     "name": "stdout",
     "output_type": "stream",
     "text": [
      "Epoch #8: test_reward: -161.839086 ± 64.146245, best_reward: -13.125912 ± 42.000086 in #2\n"
     ]
    },
    {
     "name": "stderr",
     "output_type": "stream",
     "text": [
      "Epoch #9: 5001it [00:06, 816.26it/s, agent_0/loss=55.886, env_step=45000, len=50, n/ep=0, n/st=10, rew=-12.20]         \n"
     ]
    },
    {
     "name": "stdout",
     "output_type": "stream",
     "text": [
      "Epoch #9: test_reward: -39.810047 ± 76.634194, best_reward: -13.125912 ± 42.000086 in #2\n"
     ]
    },
    {
     "name": "stderr",
     "output_type": "stream",
     "text": [
      "Epoch #10: 5001it [00:08, 584.58it/s, agent_0/loss=57.857, env_step=50000, len=50, n/ep=0, n/st=10, rew=-49.24]        \n"
     ]
    },
    {
     "name": "stdout",
     "output_type": "stream",
     "text": [
      "Epoch #10: test_reward: -165.912864 ± 103.839165, best_reward: -13.125912 ± 42.000086 in #2\n",
      "Final reward: -30.12547986950848, length: 50.0\n"
     ]
    }
   ],
   "source": [
    "def get_parser() -> argparse.ArgumentParser:\n",
    "    parser = argparse.ArgumentParser()\n",
    "    parser.add_argument('--seed', type=int, default=2)\n",
    "    parser.add_argument('--eps-test', type=float, default=0.05)\n",
    "    parser.add_argument('--eps-train', type=float, default=0.1)\n",
    "    parser.add_argument('--buffer-size', type=int, default=20000)\n",
    "    parser.add_argument('--lr', type=float, default=1e-4)\n",
    "    parser.add_argument(\n",
    "        '--gamma', type=float, default=0.99, help='a smaller gamma favors earlier win'\n",
    "    )\n",
    "    parser.add_argument('--n-step', type=int, default=3)\n",
    "    parser.add_argument('--target-update-freq', type=int, default=320)\n",
    "    parser.add_argument('--epoch', type=int, default=10)\n",
    "    parser.add_argument('--step-per-epoch', type=int, default=5000)\n",
    "    parser.add_argument('--step-per-collect', type=int, default=10)\n",
    "    parser.add_argument('--update-per-step', type=float, default=0.1)\n",
    "    parser.add_argument('--batch-size', type=int, default=64)\n",
    "    parser.add_argument(\n",
    "        '--hidden-sizes', type=int, nargs='*', default=[128, 128, 128, 128]\n",
    "    )\n",
    "    parser.add_argument('--training-num', type=int, default=10)\n",
    "    parser.add_argument('--test-num', type=int, default=1000)\n",
    "    parser.add_argument('--logdir', type=str, default='log')\n",
    "    parser.add_argument('--render', type=float, default=0.1)\n",
    "    parser.add_argument(\n",
    "        '--win-rate',\n",
    "        type=float,\n",
    "        default=0.6,\n",
    "        help='the expected winning rate: Optimal policy can get 0.7'\n",
    "    )\n",
    "    parser.add_argument(\n",
    "        '--watch',\n",
    "        default=False,\n",
    "        action='store_true',\n",
    "        help='no training, '\n",
    "        'watch the play of pre-trained models'\n",
    "    )\n",
    "    parser.add_argument(\n",
    "        '--agent-id',\n",
    "        type=int,\n",
    "        default=2,\n",
    "        help='the learned agent plays as the'\n",
    "        ' agent_id-th player. Choices are 1 and 2.'\n",
    "    )\n",
    "    parser.add_argument(\n",
    "        '--resume-path',\n",
    "        type=str,\n",
    "        default='',\n",
    "        help='the path of agent pth file '\n",
    "        'for resuming from a pre-trained agent'\n",
    "    )\n",
    "    parser.add_argument(\n",
    "        '--opponent-path',\n",
    "        type=str,\n",
    "        default='',\n",
    "        help='the path of opponent agent pth file '\n",
    "        'for resuming from a pre-trained agent'\n",
    "    )\n",
    "    parser.add_argument(\n",
    "        '--device', type=str, default='cuda' if torch.cuda.is_available() else 'cpu'\n",
    "    )\n",
    "    return parser\n",
    "\n",
    "def get_args() -> argparse.Namespace:\n",
    "    parser = get_parser()\n",
    "    return parser.parse_known_args()[0]\n",
    "\n",
    "\n",
    "\n",
    "\n",
    "def get_agents(\n",
    "    args: argparse.Namespace = get_args(),\n",
    "    agent_learn: Optional[BasePolicy] = None,\n",
    "    agent_opponent: Optional[BasePolicy] = None,\n",
    "    optim: Optional[torch.optim.Optimizer] = None,\n",
    ") -> Tuple[BasePolicy, torch.optim.Optimizer, list]:\n",
    "    env = get_env()\n",
    "    observation_space = env.observation_space['observation'] if isinstance(\n",
    "        env.observation_space, gym.spaces.Dict\n",
    "    ) else env.observation_space\n",
    "    args.state_shape = observation_space.shape or observation_space.n\n",
    "    args.action_shape = env.action_space.shape or env.action_space.n\n",
    "    if agent_learn is None:\n",
    "        # model\n",
    "        net = Net(\n",
    "            args.state_shape,\n",
    "            args.action_shape,\n",
    "            hidden_sizes=args.hidden_sizes,\n",
    "            device=args.device\n",
    "        ).to(args.device)\n",
    "        if optim is None:\n",
    "            optim = torch.optim.Adam(net.parameters(), lr=args.lr)\n",
    "        agent_learn = DQNPolicy(\n",
    "            net,\n",
    "            optim,\n",
    "            args.gamma,\n",
    "            args.n_step,\n",
    "            target_update_freq=args.target_update_freq\n",
    "        )\n",
    "        if args.resume_path:\n",
    "            agent_learn.load_state_dict(torch.load(args.resume_path))\n",
    "\n",
    "    if agent_opponent is None:\n",
    "        if args.opponent_path:\n",
    "            agent_opponent = deepcopy(agent_learn)\n",
    "            agent_opponent.load_state_dict(torch.load(args.opponent_path))\n",
    "        else:\n",
    "            agent_opponent = RandomPolicy()\n",
    "\n",
    "    if args.agent_id == 1:\n",
    "        agents = [agent_learn, agent_opponent]\n",
    "    else:\n",
    "        agents = [agent_opponent, agent_learn]\n",
    "    policy = MultiAgentPolicyManager(agents, env)\n",
    "    return policy, optim, env.agents\n",
    "\n",
    "\n",
    "def get_env(render_mode=None):\n",
    "    env = simple_tag.env(num_good=1, num_adversaries=1, num_obstacles=2, max_cycles=25, continuous_actions=False, render_mode=render_mode)\n",
    "    return PettingZooEnv(ss.pad_observations_v0(env))\n",
    "\n",
    "\n",
    "def train_agent(\n",
    "    args: argparse.Namespace = get_args(),\n",
    "    agent_learn: Optional[BasePolicy] = None,\n",
    "    agent_opponent: Optional[BasePolicy] = None,\n",
    "    optim: Optional[torch.optim.Optimizer] = None,\n",
    ") -> Tuple[dict, BasePolicy]:\n",
    "\n",
    "    # ======== environment setup =========\n",
    "    train_envs = DummyVectorEnv([get_env for _ in range(args.training_num)])\n",
    "    test_envs = DummyVectorEnv([get_env for _ in range(args.test_num)])\n",
    "    # seed\n",
    "    np.random.seed(args.seed)\n",
    "    torch.manual_seed(args.seed)\n",
    "    train_envs.seed(args.seed)\n",
    "    test_envs.seed(args.seed)\n",
    "\n",
    "    # ======== agent setup =========\n",
    "    policy, optim, agents = get_agents(\n",
    "        args, agent_learn=agent_learn, agent_opponent=agent_opponent, optim=optim\n",
    "    )\n",
    "\n",
    "    # ======== collector setup =========\n",
    "    train_collector = Collector(\n",
    "        policy,\n",
    "        train_envs,\n",
    "        VectorReplayBuffer(args.buffer_size, len(train_envs)),\n",
    "        exploration_noise=True\n",
    "    )\n",
    "    test_collector = Collector(policy, test_envs, exploration_noise=True)\n",
    "    # policy.set_eps(1)\n",
    "    train_collector.collect(n_step=args.batch_size * args.training_num)\n",
    "\n",
    "    # ======== tensorboard logging setup =========\n",
    "    log_path = os.path.join(args.logdir, 'simple_tag', 'dqn')\n",
    "    writer = SummaryWriter(log_path)\n",
    "    writer.add_text(\"args\", str(args))\n",
    "    logger = TensorboardLogger(writer)\n",
    "\n",
    "    # ======== callback functions used during training =========\n",
    "    def save_best_fn(policy):\n",
    "        if hasattr(args, 'model_save_path'):\n",
    "            model_save_path = args.model_save_path\n",
    "        else:\n",
    "            model_save_path = os.path.join(\n",
    "                args.logdir, 'simple_tag', 'dqn', 'policy.pth'\n",
    "            )\n",
    "        torch.save(\n",
    "            policy.policies[agents[args.agent_id - 1]].state_dict(), model_save_path\n",
    "        )\n",
    "\n",
    "    def stop_fn(mean_rewards):\n",
    "        return mean_rewards >= args.win_rate\n",
    "\n",
    "    def train_fn(epoch, env_step):\n",
    "        policy.policies[agents[args.agent_id - 1]].set_eps(args.eps_train)\n",
    "\n",
    "    def test_fn(epoch, env_step):\n",
    "        policy.policies[agents[args.agent_id - 1]].set_eps(args.eps_test)\n",
    "\n",
    "    def reward_metric(rews):\n",
    "        return rews[:, args.agent_id - 1]\n",
    "\n",
    "    # trainer\n",
    "    result = offpolicy_trainer(\n",
    "        policy,\n",
    "        train_collector,\n",
    "        test_collector,\n",
    "        args.epoch,\n",
    "        args.step_per_epoch,\n",
    "        args.step_per_collect,\n",
    "        args.test_num,\n",
    "        args.batch_size,\n",
    "        train_fn=train_fn,\n",
    "        test_fn=test_fn,\n",
    "        stop_fn=stop_fn,\n",
    "        save_best_fn=save_best_fn,\n",
    "        update_per_step=args.update_per_step,\n",
    "        logger=logger,\n",
    "        test_in_train=False,\n",
    "        reward_metric=reward_metric\n",
    "    )\n",
    "\n",
    "    return result, policy.policies[agents[args.agent_id - 1]]\n",
    "\n",
    "# ======== a test function that tests a pre-trained agent ======\n",
    "def watch(\n",
    "    args: argparse.Namespace = get_args(),\n",
    "    agent_learn: Optional[BasePolicy] = None,\n",
    "    agent_opponent: Optional[BasePolicy] = None,\n",
    ") -> None:\n",
    "    env = get_env(render_mode=\"human\")\n",
    "    env = DummyVectorEnv([lambda: env])\n",
    "    policy, optim, agents = get_agents(\n",
    "        args, agent_learn=agent_learn, agent_opponent=agent_opponent\n",
    "    )\n",
    "    policy.eval()\n",
    "    policy.policies[agents[args.agent_id - 1]].set_eps(args.eps_test)\n",
    "    collector = Collector(policy, env, exploration_noise=True)\n",
    "    result = collector.collect(n_episode=1, render=args.render)\n",
    "    rews, lens = result[\"rews\"], result[\"lens\"]\n",
    "    print(f\"Final reward: {rews[:, args.agent_id - 1].mean()}, length: {lens.mean()}\")\n",
    "\n",
    "# train the agent and watch its performance in a match!\n",
    "args = get_args()\n",
    "result, agent = train_agent(args)\n",
    "watch(args, agent)"
   ]
  },
  {
   "cell_type": "code",
   "execution_count": null,
   "id": "c7069659",
   "metadata": {},
   "outputs": [],
   "source": []
  }
 ],
 "metadata": {
  "kernelspec": {
   "display_name": "Python 3 (ipykernel)",
   "language": "python",
   "name": "python3"
  },
  "language_info": {
   "codemirror_mode": {
    "name": "ipython",
    "version": 3
   },
   "file_extension": ".py",
   "mimetype": "text/x-python",
   "name": "python",
   "nbconvert_exporter": "python",
   "pygments_lexer": "ipython3",
   "version": "3.10.4"
  }
 },
 "nbformat": 4,
 "nbformat_minor": 5
}
